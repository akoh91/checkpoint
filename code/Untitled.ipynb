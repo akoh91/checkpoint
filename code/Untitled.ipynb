{
 "cells": [
  {
   "cell_type": "code",
   "execution_count": 365,
   "metadata": {
    "collapsed": true
   },
   "outputs": [],
   "source": [
    "from custom_random import CustomRandom\n",
    "import numpy as np\n",
    "import random as random\n",
    "\n",
    "class CustomRandomTest():\n",
    "    \"\"\"\n",
    "    Tests a custom random number generator for use in simulation.\n",
    "    \"\"\"\n",
    "\n",
    "    # Use K bins.\n",
    "    K = 100\n",
    "    \n",
    "    \"\"\"\n",
    "    Creates a new CustomRandomTest object.\n",
    "\n",
    "    Args:\n",
    "      n_samples: Number of random number samples to collect.\n",
    "\n",
    "    Returns:\n",
    "      A new CustomRandomTest object.\n",
    "\n",
    "    \"\"\"\n",
    "    def __init__(self, n_samples, seed):\n",
    "        self.n_samples = n_samples\n",
    "        self.seed = seed\n",
    "        self.samples = []\n",
    "\n",
    "    def test(self):\n",
    "        self.generate_histogram()\n",
    "        \n",
    "    def generate_histogram(self):\n",
    "        generator = CustomRandom(self.seed)\n",
    "        \n",
    "        # Generate n_samples of a random number.\n",
    "        self.samples.extend([random.random() for i in range(0, self.n_samples-1)])\n",
    "        \n",
    "        # Prepare a histogram of the bin counts.\n",
    "        self.hist = np.histogram(self.samples, bins=self.K)\n",
    "    \n",
    "#     # Divide 0.0,1.0 into K bins.\n",
    "#     def prepare_bins(self):\n",
    "#         self.bins = np.linspace(0.0, 1.0, num=self.K+1)\n",
    "#         print(self.bins)"
   ]
  },
  {
   "cell_type": "code",
   "execution_count": 366,
   "metadata": {
    "collapsed": false
   },
   "outputs": [
    {
     "name": "stdout",
     "output_type": "stream",
     "text": [
      "(array([113, 100, 102, 113, 100, 109, 122,  91,  88,  82,  98, 105, 107,\n",
      "        91,  99, 104, 102,  84,  91, 106, 106,  78, 105, 101,  95,  97,\n",
      "       105, 100,  83,  95,  77, 114, 100,  77, 111, 110, 109,  97, 109,\n",
      "       112,  85,  93,  99, 110, 110, 105,  86, 113,  88, 106,  85,  78,\n",
      "        99,  96, 100, 103, 100, 123,  99, 107,  98,  92,  96, 101, 105,\n",
      "        84, 105,  90, 118,  94,  92, 107, 100, 105, 110,  85, 111, 115,\n",
      "       105, 107,  79,  94, 111, 123,  92,  98, 111, 106, 110, 109, 115,\n",
      "        99, 102,  90,  97,  88,  99,  98, 100,  85]), array([  5.74044186e-05,   1.00553249e-02,   2.00532453e-02,\n",
      "         3.00511658e-02,   4.00490862e-02,   5.00470067e-02,\n",
      "         6.00449272e-02,   7.00428476e-02,   8.00407681e-02,\n",
      "         9.00386885e-02,   1.00036609e-01,   1.10034529e-01,\n",
      "         1.20032450e-01,   1.30030370e-01,   1.40028291e-01,\n",
      "         1.50026211e-01,   1.60024132e-01,   1.70022052e-01,\n",
      "         1.80019973e-01,   1.90017893e-01,   2.00015814e-01,\n",
      "         2.10013734e-01,   2.20011654e-01,   2.30009575e-01,\n",
      "         2.40007495e-01,   2.50005416e-01,   2.60003336e-01,\n",
      "         2.70001257e-01,   2.79999177e-01,   2.89997098e-01,\n",
      "         2.99995018e-01,   3.09992939e-01,   3.19990859e-01,\n",
      "         3.29988779e-01,   3.39986700e-01,   3.49984620e-01,\n",
      "         3.59982541e-01,   3.69980461e-01,   3.79978382e-01,\n",
      "         3.89976302e-01,   3.99974223e-01,   4.09972143e-01,\n",
      "         4.19970064e-01,   4.29967984e-01,   4.39965905e-01,\n",
      "         4.49963825e-01,   4.59961745e-01,   4.69959666e-01,\n",
      "         4.79957586e-01,   4.89955507e-01,   4.99953427e-01,\n",
      "         5.09951348e-01,   5.19949268e-01,   5.29947189e-01,\n",
      "         5.39945109e-01,   5.49943030e-01,   5.59940950e-01,\n",
      "         5.69938870e-01,   5.79936791e-01,   5.89934711e-01,\n",
      "         5.99932632e-01,   6.09930552e-01,   6.19928473e-01,\n",
      "         6.29926393e-01,   6.39924314e-01,   6.49922234e-01,\n",
      "         6.59920155e-01,   6.69918075e-01,   6.79915995e-01,\n",
      "         6.89913916e-01,   6.99911836e-01,   7.09909757e-01,\n",
      "         7.19907677e-01,   7.29905598e-01,   7.39903518e-01,\n",
      "         7.49901439e-01,   7.59899359e-01,   7.69897280e-01,\n",
      "         7.79895200e-01,   7.89893121e-01,   7.99891041e-01,\n",
      "         8.09888961e-01,   8.19886882e-01,   8.29884802e-01,\n",
      "         8.39882723e-01,   8.49880643e-01,   8.59878564e-01,\n",
      "         8.69876484e-01,   8.79874405e-01,   8.89872325e-01,\n",
      "         8.99870246e-01,   9.09868166e-01,   9.19866086e-01,\n",
      "         9.29864007e-01,   9.39861927e-01,   9.49859848e-01,\n",
      "         9.59857768e-01,   9.69855689e-01,   9.79853609e-01,\n",
      "         9.89851530e-01,   9.99849450e-01]))\n"
     ]
    }
   ],
   "source": [
    "t = CustomRandomTest(10000, 1)\n",
    "t.test()\n",
    "print(t.hist)"
   ]
  },
  {
   "cell_type": "code",
   "execution_count": 367,
   "metadata": {
    "collapsed": false
   },
   "outputs": [],
   "source": [
    "from scipy.stats import chisquare\n",
    "\n",
    "def is_random(hist):\n",
    "    print(hist)\n",
    "    chi_square = chisquare(hist)\n",
    "    \n",
    "    print(chi_square)"
   ]
  },
  {
   "cell_type": "code",
   "execution_count": 369,
   "metadata": {
    "collapsed": false
   },
   "outputs": [
    {
     "name": "stdout",
     "output_type": "stream",
     "text": [
      "[113 100 102 113 100 109 122  91  88  82  98 105 107  91  99 104 102  84\n",
      "  91 106 106  78 105 101  95  97 105 100  83  95  77 114 100  77 111 110\n",
      " 109  97 109 112  85  93  99 110 110 105  86 113  88 106  85  78  99  96\n",
      " 100 103 100 123  99 107  98  92  96 101 105  84 105  90 118  94  92 107\n",
      " 100 105 110  85 111 115 105 107  79  94 111 123  92  98 111 106 110 109\n",
      " 115  99 102  90  97  88  99  98 100  85]\n",
      "Power_divergenceResult(statistic=110.58095809580959, pvalue=0.20047866103663869)\n"
     ]
    }
   ],
   "source": [
    "hist = t.hist[0]\n",
    "is_random(hist)"
   ]
  }
 ],
 "metadata": {
  "kernelspec": {
   "display_name": "Python 2",
   "language": "python",
   "name": "python2"
  },
  "language_info": {
   "codemirror_mode": {
    "name": "ipython",
    "version": 2
   },
   "file_extension": ".py",
   "mimetype": "text/x-python",
   "name": "python",
   "nbconvert_exporter": "python",
   "pygments_lexer": "ipython2",
   "version": "2.7.11"
  }
 },
 "nbformat": 4,
 "nbformat_minor": 0
}
