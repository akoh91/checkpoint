{
 "cells": [
  {
   "cell_type": "code",
   "execution_count": 569,
   "metadata": {
    "collapsed": false
   },
   "outputs": [],
   "source": [
    "from custom_random import CustomRandom\n",
    "import numpy as np\n",
    "import sys\n",
    "\n",
    "class CustomRandomTest():\n",
    "    \"\"\"\n",
    "    Tests a custom random number generator for use in simulation.\n",
    "    \"\"\"\n",
    "\n",
    "    # Use K bins.\n",
    "    K = 100\n",
    "    \n",
    "    \"\"\"\n",
    "    Creates a new CustomRandomTest object.\n",
    "\n",
    "    Args:\n",
    "      n_samples: Number of random number samples to collect.\n",
    "      \n",
    "\n",
    "    Returns:\n",
    "      A new CustomRandomTest object.\n",
    "\n",
    "    \"\"\"\n",
    "    def __init__(self, num_iterations, n_samples, critical_value):\n",
    "        self.num_iterations = num_iterations\n",
    "        self.n_samples = n_samples\n",
    "        self.critical_value = critical_value\n",
    "        self.samples = []\n",
    "\n",
    "    def test(self):\n",
    "        self.perform_tests()  \n",
    "        \n",
    "    def perform_tests(self):\n",
    "        failure_count = 0\n",
    "        \n",
    "        # Compute the expected value for each bin.\n",
    "        e_i = self.n_samples / float(self.K)\n",
    "        \n",
    "        for i in range(self.num_iterations):\n",
    "            # Generate a histogram, segmented into K bins, containing frequencies\n",
    "            # of random numbers generated with our random number generator.\n",
    "            self.generate_histogram()\n",
    "\n",
    "            # Initialize a container for our chi-square value.\n",
    "            score = 0\n",
    "\n",
    "            # Compute the chi-square value.\n",
    "            for frequency in self.hist:\n",
    "                score += (((frequency - e_i)**2)/e_i)\n",
    "\n",
    "            if score > self.critical_value:\n",
    "                failure_count += 1\n",
    "\n",
    "        total_failure = (failure_count/float(self.num_iterations))*100\n",
    "\n",
    "        print((\"In %d tests, the random number generator failed to pass the \"\n",
    "               \"chi-square test %.2f%% of the time.\") % (self.num_iterations, total_failure))\n",
    "        \n",
    "    def generate_histogram(self):\n",
    "        # Initialize our random number generator.\n",
    "        seed = random.uniform(1, sys.maxint)\n",
    "        generator = CustomRandom(seed)\n",
    "        \n",
    "        # Clear the samples list.\n",
    "        self.samples = []\n",
    "        \n",
    "        # Generate n_samples of a random number.\n",
    "        self.samples.extend([generator.uniform_random() for i in range(0, self.n_samples-1)])\n",
    "        \n",
    "        # Prepare a histogram of the bin counts.\n",
    "        self.hist = np.histogram(self.samples, bins=self.K)[0]"
   ]
  },
  {
   "cell_type": "code",
   "execution_count": 571,
   "metadata": {
    "collapsed": false
   },
   "outputs": [
    {
     "name": "stdout",
     "output_type": "stream",
     "text": [
      "4946\n",
      "In 100000 tests, the random number generator failed to pass the chi-square test 4.95% of the time.\n"
     ]
    }
   ],
   "source": [
    "num_iterations = 100000\n",
    "n_samples = 1000\n",
    "critical_value = 123.225\n",
    "\n",
    "tester = CustomRandomTest(num_iterations, n_samples, critical_value)\n",
    "tester.test()"
   ]
  }
 ],
 "metadata": {
  "kernelspec": {
   "display_name": "Python 2",
   "language": "python",
   "name": "python2"
  },
  "language_info": {
   "codemirror_mode": {
    "name": "ipython",
    "version": 2
   },
   "file_extension": ".py",
   "mimetype": "text/x-python",
   "name": "python",
   "nbconvert_exporter": "python",
   "pygments_lexer": "ipython2",
   "version": "2.7.11"
  }
 },
 "nbformat": 4,
 "nbformat_minor": 0
}
