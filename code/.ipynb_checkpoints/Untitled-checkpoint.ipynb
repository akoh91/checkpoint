{
 "cells": [
  {
   "cell_type": "code",
   "execution_count": 176,
   "metadata": {
    "collapsed": true
   },
   "outputs": [],
   "source": [
    "from custom_random import CustomRandom\n",
    "import numpy as np\n",
    "\n",
    "class CustomRandomTest():\n",
    "    \"\"\"\n",
    "    Tests a custom random number generator for use in simulation.\n",
    "    \"\"\"\n",
    "\n",
    "    # Use K bins.\n",
    "    K = 100\n",
    "    \n",
    "    \"\"\"\n",
    "    Creates a new CustomRandomTest object.\n",
    "\n",
    "    Args:\n",
    "      n_samples: Number of random number samples to collect.\n",
    "\n",
    "    Returns:\n",
    "      A new CustomRandomTest object.\n",
    "\n",
    "    \"\"\"\n",
    "    def __init__(self, n_samples, seed):\n",
    "        self.n_samples = n_samples\n",
    "        self.seed = seed\n",
    "        self.samples = []\n",
    "\n",
    "    def test(self):\n",
    "        self.prepare_bins()\n",
    "        self.generate_histogram()\n",
    "        \n",
    "    def generate_histogram(self):\n",
    "        generator = CustomRandom(self.seed)\n",
    "        \n",
    "        # Generate n_samples of a random number.\n",
    "        self.samples.extend([generator.uniform_random() for i in range(0, self.n_samples-1)])\n",
    "        self.samples = np.array(self.samples)\n",
    "        \n",
    "        # Prepare a histogram of the bin counts.\n",
    "        self.hist = np.histogram(self.samples, bins=self.bins)\n",
    "    \n",
    "    # Divide 0.0,1.0 into K bins.\n",
    "    def prepare_bins(self):\n",
    "        self.bins = np.linspace(0.0, 1.0, num=self.K+1)"
   ]
  },
  {
   "cell_type": "code",
   "execution_count": 181,
   "metadata": {
    "collapsed": false
   },
   "outputs": [],
   "source": [
    "t = CustomRandomTest(100000, 42)\n",
    "t.test()"
   ]
  },
  {
   "cell_type": "code",
   "execution_count": 182,
   "metadata": {
    "collapsed": false
   },
   "outputs": [],
   "source": [
    "from scipy.stats import chisquare\n",
    "\n",
    "def is_random(hist, r):\n",
    "    chi_square = chisquare(hist)[0] \n",
    "    \n",
    "    print(chi_square)\n",
    "\n",
    "#     PART C: According to Sedgewick:\n",
    "#     The statistic should be within 2(r)^1/2 of r\n",
    "#     This is valid if N is greater than about 10r\n",
    "    print abs(chi_square - r) <= 2 * sqrt(r)"
   ]
  },
  {
   "cell_type": "code",
   "execution_count": 183,
   "metadata": {
    "collapsed": false
   },
   "outputs": [
    {
     "name": "stdout",
     "output_type": "stream",
     "text": [
      "[972, 982, 1006, 1011, 1065, 1030, 986, 972, 1007, 963, 971, 1022, 992, 965, 985, 948, 972, 992, 1030, 999, 972, 970, 1024, 1034, 1042, 1007, 1014, 1015, 1029, 993, 1001, 974, 996, 993, 997, 929, 1014, 1010, 990, 1006, 1008, 1033, 1049, 1022, 1002, 1011, 982, 970, 1021, 988, 979, 948, 989, 1040, 984, 991, 976, 975, 1032, 1016, 1035, 1009, 1032, 987, 1025, 1057, 1024, 1034, 1028, 1047, 980, 1061, 987, 1006, 946, 995, 1033, 960, 1033, 938, 946, 994, 1014, 1026, 1009, 1017, 1029, 976, 1004, 949, 947, 1057, 957, 974, 997, 1064, 976, 985, 973, 992]\n"
     ]
    }
   ],
   "source": [
    "hist = t.hist[0].tolist()\n",
    "print(hist)"
   ]
  },
  {
   "cell_type": "code",
   "execution_count": 184,
   "metadata": {
    "collapsed": false
   },
   "outputs": [
    {
     "name": "stdout",
     "output_type": "stream",
     "text": [
      "90.997899979\n",
      "False\n",
      "None\n"
     ]
    }
   ],
   "source": [
    "print(is_random(hist, 1.0))"
   ]
  },
  {
   "cell_type": "code",
   "execution_count": null,
   "metadata": {
    "collapsed": true
   },
   "outputs": [],
   "source": []
  }
 ],
 "metadata": {
  "kernelspec": {
   "display_name": "Python 2",
   "language": "python",
   "name": "python2"
  },
  "language_info": {
   "codemirror_mode": {
    "name": "ipython",
    "version": 2
   },
   "file_extension": ".py",
   "mimetype": "text/x-python",
   "name": "python",
   "nbconvert_exporter": "python",
   "pygments_lexer": "ipython2",
   "version": "2.7.11"
  }
 },
 "nbformat": 4,
 "nbformat_minor": 0
}
